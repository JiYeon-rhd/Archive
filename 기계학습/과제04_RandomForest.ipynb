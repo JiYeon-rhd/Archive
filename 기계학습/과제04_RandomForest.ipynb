{
  "cells": [
    {
      "cell_type": "markdown",
      "metadata": {
        "id": "view-in-github",
        "colab_type": "text"
      },
      "source": [
        "<a href=\"https://colab.research.google.com/github/JiYeon-rhd/Archive/blob/main/%EA%B8%B0%EA%B3%84%ED%95%99%EC%8A%B5/%EA%B3%BC%EC%A0%9C04_RandomForest.ipynb\" target=\"_parent\"><img src=\"https://colab.research.google.com/assets/colab-badge.svg\" alt=\"Open In Colab\"/></a>"
      ]
    },
    {
      "cell_type": "code",
      "execution_count": null,
      "id": "0dcc5c05",
      "metadata": {
        "id": "0dcc5c05"
      },
      "outputs": [],
      "source": [
        "#실습전 설정\n",
        "\n",
        "import sys\n",
        "assert sys.version_info >= (3,5)\n",
        "\n",
        "import sklearn\n",
        "assert sklearn.__version__ >= \"0.20\"\n",
        "import numpy as np\n",
        "import os\n",
        "\n",
        "np.random.seed(42)\n",
        "\n",
        "%matplotlib inline\n",
        "import matplotlib as mpl\n",
        "import matplotlib.pyplot as plt\n",
        "mpl.rc('axes', labelsize=14)\n",
        "mpl.rc('xtick', labelsize=12)\n",
        "mpl.rc('ytick', labelsize=12)\n",
        "\n",
        "PROJECT_ROOT_DIR =\".\"\n",
        "CHAPTER_ID=\"ensembles\"\n",
        "IMAGES_PATH=os.path.join(PROJECT_ROOT_DIR, 'images', CHAPTER_ID)\n",
        "os.makedirs(IMAGES_PATH, exist_ok=True)\n",
        "\n",
        "def save_fig(fig_id, tight_layout=True, fig_extension=\"png\", resolution=300):\n",
        "    path=os.path.join(IMAGES_PATH, fig_id+\".\"+fig_extension)\n",
        "    print(\"그림저장: \", fig_id)\n",
        "    if tight_layout:\n",
        "        plt.tight_layout()\n",
        "    plt.savefig(path, format=fig_extension, dpi=resolution)"
      ]
    },
    {
      "cell_type": "markdown",
      "id": "728005c5",
      "metadata": {
        "id": "728005c5"
      },
      "source": [
        "## PG#4 랜덤 포레스트\n",
        "###  Noise=0.4인 1000개의 데이터셋을 생성"
      ]
    },
    {
      "cell_type": "code",
      "execution_count": null,
      "id": "a91e4474",
      "metadata": {
        "id": "a91e4474"
      },
      "outputs": [],
      "source": [
        "from sklearn.model_selection import train_test_split\n",
        "from sklearn.datasets import make_moons\n",
        "\n",
        "X, y = make_moons(n_samples=1000, noise=0.40, random_state=42)\n",
        "X_train, X_test, y_train, y_test = train_test_split(X, y, random_state=42)"
      ]
    },
    {
      "cell_type": "markdown",
      "id": "2d33d5b5",
      "metadata": {
        "id": "2d33d5b5"
      },
      "source": [
        "#### 규제 1\n",
        "#### n_estimators = 500 / max_leaf_node = 30 / random_state = 42"
      ]
    },
    {
      "cell_type": "code",
      "execution_count": null,
      "id": "b513a778",
      "metadata": {
        "id": "b513a778",
        "outputId": "b7656b65-ff20-4277-d07a-979ebb8aaf9a"
      },
      "outputs": [
        {
          "name": "stdout",
          "output_type": "stream",
          "text": [
            "RandomForest accuracy_score: 0.856\n"
          ]
        }
      ],
      "source": [
        "#랜덤 포레스트\n",
        "from sklearn.ensemble import RandomForestClassifier\n",
        "\n",
        "rnd_clf = RandomForestClassifier(n_estimators=500,max_leaf_nodes=30, random_state=42)\n",
        "rnd_clf.fit(X_train, y_train)\n",
        "\n",
        "y_pred_rf = rnd_clf.predict(X_test)\n",
        "\n",
        "from sklearn.metrics import accuracy_score\n",
        "print('RandomForest accuracy_score:',accuracy_score(y_test, y_pred))"
      ]
    },
    {
      "cell_type": "code",
      "execution_count": null,
      "id": "26dada77",
      "metadata": {
        "id": "26dada77",
        "outputId": "bf5bf41f-0348-4f2c-a523-0a3243e2ab32"
      },
      "outputs": [
        {
          "name": "stdout",
          "output_type": "stream",
          "text": [
            "ExtraTrees accuracy_score: 0.872\n"
          ]
        }
      ],
      "source": [
        "#엑스트라 트리\n",
        "from sklearn.ensemble import ExtraTreesClassifier\n",
        "\n",
        "et_clf = ExtraTreesClassifier(n_estimators=500,max_leaf_nodes=30, random_state=42)\n",
        "et_clf.fit(X_train, y_train)\n",
        "\n",
        "y_pred_et = et_clf.predict(X_test)\n",
        "\n",
        "from sklearn.metrics import accuracy_score\n",
        "print('ExtraTrees accuracy_score:',accuracy_score(y_test, y_pred_et))"
      ]
    },
    {
      "cell_type": "markdown",
      "id": "e80e6dc8",
      "metadata": {
        "id": "e80e6dc8"
      },
      "source": [
        "#### 규제 2\n",
        "#### n_estimators = 500 / max_leaf_node = 30 / random_state = 42 / max_depth = 25"
      ]
    },
    {
      "cell_type": "code",
      "execution_count": null,
      "id": "430baf16",
      "metadata": {
        "id": "430baf16",
        "outputId": "f7c4b8d2-91be-472f-b0ec-93c26b4fcaee"
      },
      "outputs": [
        {
          "name": "stdout",
          "output_type": "stream",
          "text": [
            "RandomForest accuracy_score: 0.856\n"
          ]
        }
      ],
      "source": [
        "#랜덤 포레스트\n",
        "from sklearn.ensemble import RandomForestClassifier\n",
        "\n",
        "rnd_clf = RandomForestClassifier(n_estimators =500,max_leaf_nodes=30, random_state=42,max_depth=25)\n",
        "rnd_clf.fit(X_train, y_train)\n",
        "\n",
        "y_pred_rf = rnd_clf.predict(X_test)\n",
        "\n",
        "from sklearn.metrics import accuracy_score\n",
        "print('RandomForest accuracy_score:',accuracy_score(y_test, y_pred))"
      ]
    },
    {
      "cell_type": "code",
      "execution_count": null,
      "id": "985021ae",
      "metadata": {
        "id": "985021ae",
        "outputId": "3eb989ef-bfb9-451e-aa26-dd9215394428"
      },
      "outputs": [
        {
          "name": "stdout",
          "output_type": "stream",
          "text": [
            "ExtraTrees accuracy_score: 0.872\n"
          ]
        }
      ],
      "source": [
        "#엑스트라 트리\n",
        "from sklearn.ensemble import ExtraTreesClassifier\n",
        "\n",
        "et_clf = ExtraTreesClassifier(n_estimators =500,max_leaf_nodes=30, random_state=42,max_depth=25)\n",
        "et_clf.fit(X_train, y_train)\n",
        "\n",
        "y_pred_et = et_clf.predict(X_test)\n",
        "\n",
        "from sklearn.metrics import accuracy_score\n",
        "print('ExtraTrees accuracy_score:',accuracy_score(y_test, y_pred_et))"
      ]
    },
    {
      "cell_type": "markdown",
      "id": "c7a19c98",
      "metadata": {
        "id": "c7a19c98"
      },
      "source": [
        "#### 규제 3\n",
        "#### n_estimators = 500 / max_leaf_node = 30 / random_state = 42 / max_depth = 25 / min_samples_leaf = 5"
      ]
    },
    {
      "cell_type": "code",
      "execution_count": null,
      "id": "405d356b",
      "metadata": {
        "id": "405d356b",
        "outputId": "62158eb8-c0e6-48df-d4e3-112aaddcdd77"
      },
      "outputs": [
        {
          "name": "stdout",
          "output_type": "stream",
          "text": [
            "RandomForest accuracy_score: 0.856\n"
          ]
        }
      ],
      "source": [
        "#랜덤 포레스트\n",
        "from sklearn.ensemble import RandomForestClassifier\n",
        "\n",
        "rnd_clf = RandomForestClassifier(n_estimators =500,max_leaf_nodes=30,random_state=42,max_depth=25,min_samples_leaf=5)\n",
        "rnd_clf.fit(X_train, y_train)\n",
        "\n",
        "y_pred_rf = rnd_clf.predict(X_test)\n",
        "\n",
        "from sklearn.metrics import accuracy_score\n",
        "print('RandomForest accuracy_score:',accuracy_score(y_test, y_pred))"
      ]
    },
    {
      "cell_type": "code",
      "execution_count": null,
      "id": "00fb0db7",
      "metadata": {
        "id": "00fb0db7",
        "outputId": "549d0d29-e645-4886-a32b-2db1553c9a13"
      },
      "outputs": [
        {
          "name": "stdout",
          "output_type": "stream",
          "text": [
            "ExtraTrees accuracy_score: 0.864\n"
          ]
        }
      ],
      "source": [
        "#엑스트라 트리\n",
        "from sklearn.ensemble import ExtraTreesClassifier\n",
        "\n",
        "et_clf = ExtraTreesClassifier(n_estimators =500,max_leaf_nodes=30,random_state=42,max_depth=25,min_samples_leaf=5)\n",
        "et_clf.fit(X_train, y_train)\n",
        "\n",
        "y_pred_et = et_clf.predict(X_test)\n",
        "\n",
        "from sklearn.metrics import accuracy_score\n",
        "print('ExtraTrees accuracy_score:',accuracy_score(y_test, y_pred_et))"
      ]
    },
    {
      "cell_type": "markdown",
      "id": "51887544",
      "metadata": {
        "id": "51887544"
      },
      "source": [
        "### 동일 조건에서 랜덤포레스트와 엑스트라 트리를 비교할 경우\n",
        "### 엑스트라 트리가 더 좋은 정확도를 보였다\n",
        "\n",
        "\n",
        "\n",
        "엑스트라 트리\n",
        "\n",
        "\n",
        "from sklearn.ensemble import ExtraTreesClassifier\n",
        "\n",
        "et_clf = ExtraTreesClassifier(n_estimators =500,max_leaf_nodes=30, random_state=42,max_depth=25)\n",
        "\n",
        "et_clf.fit(X_train, y_train)\n",
        "\n",
        "y_pred_et = et_clf.predict(X_test)\n",
        "\n",
        "from sklearn.metrics import accuracy_score\n",
        "\n",
        "print('ExtraTrees accuracy_score:',accuracy_score(y_test, y_pred_et))"
      ]
    },
    {
      "cell_type": "code",
      "execution_count": null,
      "id": "6ec49768",
      "metadata": {
        "id": "6ec49768"
      },
      "outputs": [],
      "source": []
    }
  ],
  "metadata": {
    "kernelspec": {
      "display_name": "Python 3 (ipykernel)",
      "language": "python",
      "name": "python3"
    },
    "language_info": {
      "codemirror_mode": {
        "name": "ipython",
        "version": 3
      },
      "file_extension": ".py",
      "mimetype": "text/x-python",
      "name": "python",
      "nbconvert_exporter": "python",
      "pygments_lexer": "ipython3",
      "version": "3.8.13"
    },
    "colab": {
      "provenance": [],
      "include_colab_link": true
    }
  },
  "nbformat": 4,
  "nbformat_minor": 5
}