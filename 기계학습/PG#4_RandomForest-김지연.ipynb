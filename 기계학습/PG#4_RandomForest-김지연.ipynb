{
 "cells": [
  {
   "cell_type": "code",
   "execution_count": 114,
   "id": "0dcc5c05",
   "metadata": {},
   "outputs": [],
   "source": [
    "#실습전 설정\n",
    "\n",
    "import sys\n",
    "assert sys.version_info >= (3,5)\n",
    "\n",
    "import sklearn \n",
    "assert sklearn.__version__ >= \"0.20\"\n",
    "import numpy as np\n",
    "import os\n",
    " \n",
    "np.random.seed(42)\n",
    "\n",
    "%matplotlib inline\n",
    "import matplotlib as mpl\n",
    "import matplotlib.pyplot as plt\n",
    "mpl.rc('axes', labelsize=14)\n",
    "mpl.rc('xtick', labelsize=12)\n",
    "mpl.rc('ytick', labelsize=12)\n",
    "\n",
    "PROJECT_ROOT_DIR =\".\"\n",
    "CHAPTER_ID=\"ensembles\"\n",
    "IMAGES_PATH=os.path.join(PROJECT_ROOT_DIR, 'images', CHAPTER_ID)\n",
    "os.makedirs(IMAGES_PATH, exist_ok=True)\n",
    "\n",
    "def save_fig(fig_id, tight_layout=True, fig_extension=\"png\", resolution=300):\n",
    "    path=os.path.join(IMAGES_PATH, fig_id+\".\"+fig_extension)\n",
    "    print(\"그림저장: \", fig_id)\n",
    "    if tight_layout:\n",
    "        plt.tight_layout()\n",
    "    plt.savefig(path, format=fig_extension, dpi=resolution)"
   ]
  },
  {
   "cell_type": "markdown",
   "id": "728005c5",
   "metadata": {},
   "source": [
    "## PG#4 랜덤 포레스트\n",
    "###  Noise=0.4인 1000개의 데이터셋을 생성"
   ]
  },
  {
   "cell_type": "code",
   "execution_count": 115,
   "id": "a91e4474",
   "metadata": {},
   "outputs": [],
   "source": [
    "from sklearn.model_selection import train_test_split\n",
    "from sklearn.datasets import make_moons\n",
    "\n",
    "X, y = make_moons(n_samples=1000, noise=0.40, random_state=42)\n",
    "X_train, X_test, y_train, y_test = train_test_split(X, y, random_state=42)"
   ]
  },
  {
   "cell_type": "markdown",
   "id": "2d33d5b5",
   "metadata": {},
   "source": [
    "#### 규제 1\n",
    "#### n_estimators = 500 / max_leaf_node = 30 / random_state = 42"
   ]
  },
  {
   "cell_type": "code",
   "execution_count": 116,
   "id": "b513a778",
   "metadata": {},
   "outputs": [
    {
     "name": "stdout",
     "output_type": "stream",
     "text": [
      "RandomForest accuracy_score: 0.856\n"
     ]
    }
   ],
   "source": [
    "#랜덤 포레스트\n",
    "from sklearn.ensemble import RandomForestClassifier\n",
    "\n",
    "rnd_clf = RandomForestClassifier(n_estimators=500,max_leaf_nodes=30, random_state=42)\n",
    "rnd_clf.fit(X_train, y_train)\n",
    "\n",
    "y_pred_rf = rnd_clf.predict(X_test)\n",
    "\n",
    "from sklearn.metrics import accuracy_score\n",
    "print('RandomForest accuracy_score:',accuracy_score(y_test, y_pred))"
   ]
  },
  {
   "cell_type": "code",
   "execution_count": 117,
   "id": "26dada77",
   "metadata": {},
   "outputs": [
    {
     "name": "stdout",
     "output_type": "stream",
     "text": [
      "ExtraTrees accuracy_score: 0.872\n"
     ]
    }
   ],
   "source": [
    "#엑스트라 트리\n",
    "from sklearn.ensemble import ExtraTreesClassifier\n",
    "\n",
    "et_clf = ExtraTreesClassifier(n_estimators=500,max_leaf_nodes=30, random_state=42)\n",
    "et_clf.fit(X_train, y_train)\n",
    "\n",
    "y_pred_et = et_clf.predict(X_test)\n",
    "\n",
    "from sklearn.metrics import accuracy_score\n",
    "print('ExtraTrees accuracy_score:',accuracy_score(y_test, y_pred_et))"
   ]
  },
  {
   "cell_type": "markdown",
   "id": "e80e6dc8",
   "metadata": {},
   "source": [
    "#### 규제 2\n",
    "#### n_estimators = 500 / max_leaf_node = 30 / random_state = 42 / max_depth = 25"
   ]
  },
  {
   "cell_type": "code",
   "execution_count": 118,
   "id": "430baf16",
   "metadata": {},
   "outputs": [
    {
     "name": "stdout",
     "output_type": "stream",
     "text": [
      "RandomForest accuracy_score: 0.856\n"
     ]
    }
   ],
   "source": [
    "#랜덤 포레스트\n",
    "from sklearn.ensemble import RandomForestClassifier\n",
    "\n",
    "rnd_clf = RandomForestClassifier(n_estimators =500,max_leaf_nodes=30, random_state=42,max_depth=25)\n",
    "rnd_clf.fit(X_train, y_train)\n",
    "\n",
    "y_pred_rf = rnd_clf.predict(X_test)\n",
    "\n",
    "from sklearn.metrics import accuracy_score\n",
    "print('RandomForest accuracy_score:',accuracy_score(y_test, y_pred))"
   ]
  },
  {
   "cell_type": "code",
   "execution_count": 119,
   "id": "985021ae",
   "metadata": {},
   "outputs": [
    {
     "name": "stdout",
     "output_type": "stream",
     "text": [
      "ExtraTrees accuracy_score: 0.872\n"
     ]
    }
   ],
   "source": [
    "#엑스트라 트리\n",
    "from sklearn.ensemble import ExtraTreesClassifier\n",
    "\n",
    "et_clf = ExtraTreesClassifier(n_estimators =500,max_leaf_nodes=30, random_state=42,max_depth=25)\n",
    "et_clf.fit(X_train, y_train)\n",
    "\n",
    "y_pred_et = et_clf.predict(X_test)\n",
    "\n",
    "from sklearn.metrics import accuracy_score\n",
    "print('ExtraTrees accuracy_score:',accuracy_score(y_test, y_pred_et))"
   ]
  },
  {
   "cell_type": "markdown",
   "id": "c7a19c98",
   "metadata": {},
   "source": [
    "#### 규제 3\n",
    "#### n_estimators = 500 / max_leaf_node = 30 / random_state = 42 / max_depth = 25 / min_samples_leaf = 5"
   ]
  },
  {
   "cell_type": "code",
   "execution_count": 120,
   "id": "405d356b",
   "metadata": {},
   "outputs": [
    {
     "name": "stdout",
     "output_type": "stream",
     "text": [
      "RandomForest accuracy_score: 0.856\n"
     ]
    }
   ],
   "source": [
    "#랜덤 포레스트\n",
    "from sklearn.ensemble import RandomForestClassifier\n",
    "\n",
    "rnd_clf = RandomForestClassifier(n_estimators =500,max_leaf_nodes=30,random_state=42,max_depth=25,min_samples_leaf=5)\n",
    "rnd_clf.fit(X_train, y_train)\n",
    "\n",
    "y_pred_rf = rnd_clf.predict(X_test)\n",
    "\n",
    "from sklearn.metrics import accuracy_score\n",
    "print('RandomForest accuracy_score:',accuracy_score(y_test, y_pred))"
   ]
  },
  {
   "cell_type": "code",
   "execution_count": 121,
   "id": "00fb0db7",
   "metadata": {},
   "outputs": [
    {
     "name": "stdout",
     "output_type": "stream",
     "text": [
      "ExtraTrees accuracy_score: 0.864\n"
     ]
    }
   ],
   "source": [
    "#엑스트라 트리\n",
    "from sklearn.ensemble import ExtraTreesClassifier\n",
    "\n",
    "et_clf = ExtraTreesClassifier(n_estimators =500,max_leaf_nodes=30,random_state=42,max_depth=25,min_samples_leaf=5)\n",
    "et_clf.fit(X_train, y_train)\n",
    "\n",
    "y_pred_et = et_clf.predict(X_test)\n",
    "\n",
    "from sklearn.metrics import accuracy_score\n",
    "print('ExtraTrees accuracy_score:',accuracy_score(y_test, y_pred_et))"
   ]
  },
  {
   "cell_type": "markdown",
   "id": "51887544",
   "metadata": {},
   "source": [
    "### 동일 조건에서 랜덤포레스트와 엑스트라 트리를 비교할 경우 \n",
    "### 엑스트라 트리가 더 좋은 정확도를 보였다\n",
    "\n",
    "\n",
    "\n",
    "엑스트라 트리\n",
    "\n",
    "\n",
    "from sklearn.ensemble import ExtraTreesClassifier\n",
    "\n",
    "et_clf = ExtraTreesClassifier(n_estimators =500,max_leaf_nodes=30, random_state=42,max_depth=25)\n",
    "\n",
    "et_clf.fit(X_train, y_train)\n",
    "\n",
    "y_pred_et = et_clf.predict(X_test)\n",
    "\n",
    "from sklearn.metrics import accuracy_score\n",
    "\n",
    "print('ExtraTrees accuracy_score:',accuracy_score(y_test, y_pred_et))"
   ]
  },
  {
   "cell_type": "code",
   "execution_count": null,
   "id": "6ec49768",
   "metadata": {},
   "outputs": [],
   "source": []
  }
 ],
 "metadata": {
  "kernelspec": {
   "display_name": "Python 3 (ipykernel)",
   "language": "python",
   "name": "python3"
  },
  "language_info": {
   "codemirror_mode": {
    "name": "ipython",
    "version": 3
   },
   "file_extension": ".py",
   "mimetype": "text/x-python",
   "name": "python",
   "nbconvert_exporter": "python",
   "pygments_lexer": "ipython3",
   "version": "3.8.13"
  }
 },
 "nbformat": 4,
 "nbformat_minor": 5
}
