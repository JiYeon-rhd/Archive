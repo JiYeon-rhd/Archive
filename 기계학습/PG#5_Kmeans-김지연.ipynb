{
  "nbformat": 4,
  "nbformat_minor": 0,
  "metadata": {
    "colab": {
      "name": "Kmeans김지연.ipynb",
      "provenance": [],
      "collapsed_sections": []
    },
    "kernelspec": {
      "name": "python3",
      "display_name": "Python 3"
    },
    "language_info": {
      "name": "python"
    }
  },
  "cells": [
    {
      "cell_type": "markdown",
      "source": [
        "# PG#5 K-평균 군집화"
      ],
      "metadata": {
        "id": "qGX1fkkdG4j-"
      }
    },
    {
      "cell_type": "code",
      "execution_count": 69,
      "metadata": {
        "id": "odE5Qyr_CfZy"
      },
      "outputs": [],
      "source": [
        "#실습전 설정\n",
        "\n",
        "import sys\n",
        "assert sys.version_info >= (3,5)\n",
        "\n",
        "import sklearn \n",
        "assert sklearn.__version__ >= \"0.20\"\n",
        "import numpy as np\n",
        "import os\n",
        " \n",
        "np.random.seed(42)\n",
        "\n",
        "%matplotlib inline\n",
        "import matplotlib as mpl\n",
        "import matplotlib.pyplot as plt\n",
        "mpl.rc('axes', labelsize=14)\n",
        "mpl.rc('xtick', labelsize=12)\n",
        "mpl.rc('ytick', labelsize=12)"
      ]
    },
    {
      "cell_type": "markdown",
      "source": [
        "### Iris 데이터셋 중 꽃잎 길이, 너비 특성만 사용합니다. (2, 3번째 특성)"
      ],
      "metadata": {
        "id": "EmRc2nI1GvBu"
      }
    },
    {
      "cell_type": "code",
      "source": [
        "from sklearn.datasets import load_iris\n",
        "\n",
        "iris=load_iris()\n",
        "X = iris[\"data\"][:,(2,3)]\n",
        "y = iris.target"
      ],
      "metadata": {
        "id": "GC0y9rynC5LQ"
      },
      "execution_count": 70,
      "outputs": []
    },
    {
      "cell_type": "code",
      "source": [
        "def plot_clusters(X, y=None):\n",
        "    plt.scatter(X[:,0], X[:,1], c='#FFACB7')\n",
        "    plt.xlabel(\"petal length\", fontsize=14)\n",
        "    plt.ylabel(\"petal width\", fontsize=14)\n",
        "    plt.title(\"feature scatter\", fontsize=18)"
      ],
      "metadata": {
        "id": "eAw7M9SPC7JA"
      },
      "execution_count": 71,
      "outputs": []
    },
    {
      "cell_type": "code",
      "source": [
        "plt.figure(figsize=(8,4))\n",
        "plot_clusters(X)\n",
        "plt.show()"
      ],
      "metadata": {
        "colab": {
          "base_uri": "https://localhost:8080/",
          "height": 306
        },
        "id": "RFS-wxlkC8PL",
        "outputId": "fcb0fa58-8225-4c01-8774-cefad4577643"
      },
      "execution_count": 72,
      "outputs": [
        {
          "output_type": "display_data",
          "data": {
            "text/plain": [
              "<Figure size 576x288 with 1 Axes>"
            ],
            "image/png": "[encoded data removed]"
          },
          "metadata": {
            "needs_background": "light"
          }
        }
      ]
    },
    {
      "cell_type": "code",
      "source": [
        "from sklearn.cluster import KMeans"
      ],
      "metadata": {
        "id": "Ag6jhGHgC9aU"
      },
      "execution_count": 73,
      "outputs": []
    },
    {
      "cell_type": "markdown",
      "source": [
        "### K = 2 인 경우,"
      ],
      "metadata": {
        "id": "Ctj9Glz-HBbD"
      }
    },
    {
      "cell_type": "code",
      "source": [
        "k=2\n",
        "kmeans = KMeans(n_clusters=k, random_state=42)\n",
        "y_pred = kmeans.fit_predict(X)"
      ],
      "metadata": {
        "id": "j8dyUAlUC_DI"
      },
      "execution_count": 74,
      "outputs": []
    },
    {
      "cell_type": "code",
      "source": [
        "y_pred"
      ],
      "metadata": {
        "colab": {
          "base_uri": "https://localhost:8080/"
        },
        "id": "WAKg5grVC_9a",
        "outputId": "8535f677-10ea-4e32-fa5b-d9854df3ff52"
      },
      "execution_count": 75,
      "outputs": [
        {
          "output_type": "execute_result",
          "data": {
            "text/plain": [
              "array([1, 1, 1, 1, 1, 1, 1, 1, 1, 1, 1, 1, 1, 1, 1, 1, 1, 1, 1, 1, 1, 1,\n",
              "       1, 1, 1, 1, 1, 1, 1, 1, 1, 1, 1, 1, 1, 1, 1, 1, 1, 1, 1, 1, 1, 1,\n",
              "       1, 1, 1, 1, 1, 1, 0, 0, 0, 0, 0, 0, 0, 0, 0, 0, 0, 0, 0, 0, 0, 0,\n",
              "       0, 0, 0, 0, 0, 0, 0, 0, 0, 0, 0, 0, 0, 0, 0, 0, 0, 0, 0, 0, 0, 0,\n",
              "       0, 0, 0, 0, 0, 0, 0, 0, 0, 0, 1, 0, 0, 0, 0, 0, 0, 0, 0, 0, 0, 0,\n",
              "       0, 0, 0, 0, 0, 0, 0, 0, 0, 0, 0, 0, 0, 0, 0, 0, 0, 0, 0, 0, 0, 0,\n",
              "       0, 0, 0, 0, 0, 0, 0, 0, 0, 0, 0, 0, 0, 0, 0, 0, 0, 0], dtype=int32)"
            ]
          },
          "metadata": {},
          "execution_count": 75
        }
      ]
    },
    {
      "cell_type": "code",
      "source": [
        "y_pred is kmeans.labels_"
      ],
      "metadata": {
        "colab": {
          "base_uri": "https://localhost:8080/"
        },
        "id": "IQnywuT8DBpr",
        "outputId": "10b1b79d-cb12-44b3-97a1-4088887c6245"
      },
      "execution_count": 76,
      "outputs": [
        {
          "output_type": "execute_result",
          "data": {
            "text/plain": [
              "True"
            ]
          },
          "metadata": {},
          "execution_count": 76
        }
      ]
    },
    {
      "cell_type": "code",
      "source": [
        "kmeans.cluster_centers_"
      ],
      "metadata": {
        "colab": {
          "base_uri": "https://localhost:8080/"
        },
        "id": "wVpvmXQcDCoJ",
        "outputId": "f7a7314e-c80f-4905-de4f-8f9606ab005c"
      },
      "execution_count": 77,
      "outputs": [
        {
          "output_type": "execute_result",
          "data": {
            "text/plain": [
              "array([[4.92525253, 1.68181818],\n",
              "       [1.49215686, 0.2627451 ]])"
            ]
          },
          "metadata": {},
          "execution_count": 77
        }
      ]
    },
    {
      "cell_type": "code",
      "source": [
        "kmeans.labels_"
      ],
      "metadata": {
        "colab": {
          "base_uri": "https://localhost:8080/"
        },
        "id": "lD__JXxFDEDZ",
        "outputId": "8e6757a3-b177-4331-e7d6-0954991c8c5b"
      },
      "execution_count": 78,
      "outputs": [
        {
          "output_type": "execute_result",
          "data": {
            "text/plain": [
              "array([1, 1, 1, 1, 1, 1, 1, 1, 1, 1, 1, 1, 1, 1, 1, 1, 1, 1, 1, 1, 1, 1,\n",
              "       1, 1, 1, 1, 1, 1, 1, 1, 1, 1, 1, 1, 1, 1, 1, 1, 1, 1, 1, 1, 1, 1,\n",
              "       1, 1, 1, 1, 1, 1, 0, 0, 0, 0, 0, 0, 0, 0, 0, 0, 0, 0, 0, 0, 0, 0,\n",
              "       0, 0, 0, 0, 0, 0, 0, 0, 0, 0, 0, 0, 0, 0, 0, 0, 0, 0, 0, 0, 0, 0,\n",
              "       0, 0, 0, 0, 0, 0, 0, 0, 0, 0, 1, 0, 0, 0, 0, 0, 0, 0, 0, 0, 0, 0,\n",
              "       0, 0, 0, 0, 0, 0, 0, 0, 0, 0, 0, 0, 0, 0, 0, 0, 0, 0, 0, 0, 0, 0,\n",
              "       0, 0, 0, 0, 0, 0, 0, 0, 0, 0, 0, 0, 0, 0, 0, 0, 0, 0], dtype=int32)"
            ]
          },
          "metadata": {},
          "execution_count": 78
        }
      ]
    },
    {
      "cell_type": "code",
      "source": [
        "def plot_data(X):\n",
        "    plt.plot(X[:,0], X[:, 1], 'k.', markersize=2)\n",
        "\n",
        "def plot_centroids(centroids, weights=None, circle_color='w', cross_color='k'):\n",
        "    if weights is not None:\n",
        "        centroids=centroids[weights>weights.max()/10]\n",
        "    plt.scatter(centroids[:,0], centroids[:, 1],\n",
        "               marker='o', s=35, linewidths=8,\n",
        "               color=circle_color, zorder=10, alpha=0.9)\n",
        "    plt.scatter(centroids[:,0], centroids[:, 1],\n",
        "               marker='x', s=35, linewidths=12,\n",
        "               color=cross_color, zorder=11, alpha=1)"
      ],
      "metadata": {
        "id": "yZvkTy_hDFHF"
      },
      "execution_count": 79,
      "outputs": []
    },
    {
      "cell_type": "code",
      "source": [
        "def plot_decision_boundaries(clusterer, X, resolution=1000, show_centroids=True,\n",
        "                            show_xlabels=True, show_ylabels=True):\n",
        "    mins=X.min(axis=0)-0.1\n",
        "    maxs=X.max(axis=0)+0.1\n",
        "    xx,yy=np.meshgrid(np.linspace(mins[0], maxs[0], resolution),\n",
        "                     np.linspace(mins[1], maxs[1], resolution))\n",
        "    Z=clusterer.predict(np.c_[xx.ravel(),yy.ravel()])\n",
        "    Z = Z.reshape(xx.shape)\n",
        "    \n",
        "    plt.contourf(Z, extent=(mins[0], maxs[0], mins[1], maxs[1]),\n",
        "                cmap=\"Pastel2\")\n",
        "    plt.contour(Z, extent=(mins[0], maxs[0], mins[1], maxs[1]),\n",
        "                linewidths=1, colors='k')\n",
        "    \n",
        "    plot_data(X)\n",
        "    if show_centroids:\n",
        "        plot_centroids(clusterer.cluster_centers_)\n",
        "        \n",
        "    if show_xlabels:\n",
        "        plt.xlabel(\"$x_1$\", fontsize=14)\n",
        "    else:\n",
        "        plt.tick_params(labelbottom=False)\n",
        "    if show_ylabels:\n",
        "        plt.ylabel(\"$x_2$\", fontsize=14, rotation=0)\n",
        "    else:\n",
        "        plt.tick_params(labelleft=False)"
      ],
      "metadata": {
        "id": "eKXVTPOdDGOi"
      },
      "execution_count": 80,
      "outputs": []
    },
    {
      "cell_type": "code",
      "source": [
        "plt.figure(figsize=(8,4))\n",
        "plot_decision_boundaries(kmeans, X)\n",
        "\n",
        "plt.show()"
      ],
      "metadata": {
        "colab": {
          "base_uri": "https://localhost:8080/",
          "height": 287
        },
        "id": "NkVhVFVkDHvy",
        "outputId": "80771b3b-c9f9-4a2c-f9b0-708dd7bf7d80"
      },
      "execution_count": 81,
      "outputs": [
        {
          "output_type": "display_data",
          "data": {
            "text/plain": [
              "<Figure size 576x288 with 1 Axes>"
            ],
            "image/png": "[encoded data removed]"
          },
          "metadata": {
            "needs_background": "light"
          }
        }
      ]
    },
    {
      "cell_type": "markdown",
      "source": [
        "### K = 3 인 경우,"
      ],
      "metadata": {
        "id": "F__Vo_DaHQ7b"
      }
    },
    {
      "cell_type": "code",
      "source": [
        "k=3\n",
        "kmeans = KMeans(n_clusters=k, random_state=42)\n",
        "y_pred = kmeans.fit_predict(X)"
      ],
      "metadata": {
        "id": "MxEKRZdNDMpY"
      },
      "execution_count": 82,
      "outputs": []
    },
    {
      "cell_type": "code",
      "source": [
        "y_pred is kmeans.labels_"
      ],
      "metadata": {
        "colab": {
          "base_uri": "https://localhost:8080/"
        },
        "id": "WjGBOzwgDR8s",
        "outputId": "faec2bf1-ddd9-429d-9551-b70b5c0ed73b"
      },
      "execution_count": 83,
      "outputs": [
        {
          "output_type": "execute_result",
          "data": {
            "text/plain": [
              "True"
            ]
          },
          "metadata": {},
          "execution_count": 83
        }
      ]
    },
    {
      "cell_type": "code",
      "source": [
        "kmeans.cluster_centers_"
      ],
      "metadata": {
        "colab": {
          "base_uri": "https://localhost:8080/"
        },
        "id": "k9v67zMjDbd9",
        "outputId": "ed0d75f3-1b6e-49d8-e77d-e2b2b6b0bf15"
      },
      "execution_count": 84,
      "outputs": [
        {
          "output_type": "execute_result",
          "data": {
            "text/plain": [
              "array([[5.59583333, 2.0375    ],\n",
              "       [1.462     , 0.246     ],\n",
              "       [4.26923077, 1.34230769]])"
            ]
          },
          "metadata": {},
          "execution_count": 84
        }
      ]
    },
    {
      "cell_type": "code",
      "source": [
        "kmeans.labels_"
      ],
      "metadata": {
        "colab": {
          "base_uri": "https://localhost:8080/"
        },
        "id": "HJlVS1YJDduf",
        "outputId": "9526d456-e4d8-453d-908f-90935b049dd1"
      },
      "execution_count": 85,
      "outputs": [
        {
          "output_type": "execute_result",
          "data": {
            "text/plain": [
              "array([1, 1, 1, 1, 1, 1, 1, 1, 1, 1, 1, 1, 1, 1, 1, 1, 1, 1, 1, 1, 1, 1,\n",
              "       1, 1, 1, 1, 1, 1, 1, 1, 1, 1, 1, 1, 1, 1, 1, 1, 1, 1, 1, 1, 1, 1,\n",
              "       1, 1, 1, 1, 1, 1, 2, 2, 2, 2, 2, 2, 2, 2, 2, 2, 2, 2, 2, 2, 2, 2,\n",
              "       2, 2, 2, 2, 2, 2, 2, 2, 2, 2, 2, 0, 2, 2, 2, 2, 2, 0, 2, 2, 2, 2,\n",
              "       2, 2, 2, 2, 2, 2, 2, 2, 2, 2, 2, 2, 0, 0, 0, 0, 0, 0, 2, 0, 0, 0,\n",
              "       0, 0, 0, 0, 0, 0, 0, 0, 0, 2, 0, 0, 0, 0, 0, 0, 2, 0, 0, 0, 0, 0,\n",
              "       0, 0, 0, 0, 0, 0, 2, 0, 0, 0, 0, 0, 0, 0, 0, 0, 0, 0], dtype=int32)"
            ]
          },
          "metadata": {},
          "execution_count": 85
        }
      ]
    },
    {
      "cell_type": "code",
      "source": [
        "plt.figure(figsize=(8,4))\n",
        "plot_decision_boundaries(kmeans, X)\n",
        "\n",
        "plt.show()"
      ],
      "metadata": {
        "colab": {
          "base_uri": "https://localhost:8080/",
          "height": 287
        },
        "id": "i0rg3r5VDfmt",
        "outputId": "256b5195-2dd2-421f-dd52-be50e4610156"
      },
      "execution_count": 86,
      "outputs": [
        {
          "output_type": "display_data",
          "data": {
            "text/plain": [
              "<Figure size 576x288 with 1 Axes>"
            ],
            "image/png": "[encoded data removed]"
          },
          "metadata": {
            "needs_background": "light"
          }
        }
      ]
    },
    {
      "cell_type": "markdown",
      "source": [
        "### K = 4 인 경우,"
      ],
      "metadata": {
        "id": "re74J2ApHS57"
      }
    },
    {
      "cell_type": "code",
      "source": [
        "k=4\n",
        "kmeans = KMeans(n_clusters=k, random_state=42)\n",
        "y_pred = kmeans.fit_predict(X)"
      ],
      "metadata": {
        "id": "YkTsKk5_DiQm"
      },
      "execution_count": 87,
      "outputs": []
    },
    {
      "cell_type": "code",
      "source": [
        "y_pred is kmeans.labels_"
      ],
      "metadata": {
        "colab": {
          "base_uri": "https://localhost:8080/"
        },
        "id": "PtJwDr26DkMB",
        "outputId": "fe8f7606-b53b-4088-8cae-9310ebbd942b"
      },
      "execution_count": 88,
      "outputs": [
        {
          "output_type": "execute_result",
          "data": {
            "text/plain": [
              "True"
            ]
          },
          "metadata": {},
          "execution_count": 88
        }
      ]
    },
    {
      "cell_type": "code",
      "source": [
        "kmeans.cluster_centers_"
      ],
      "metadata": {
        "colab": {
          "base_uri": "https://localhost:8080/"
        },
        "id": "Mm4A5HllDnEZ",
        "outputId": "f0046da6-c116-4397-efd4-7e49588d26ba"
      },
      "execution_count": 89,
      "outputs": [
        {
          "output_type": "execute_result",
          "data": {
            "text/plain": [
              "array([[5.78611111, 2.10833333],\n",
              "       [1.462     , 0.246     ],\n",
              "       [4.75789474, 1.59736842],\n",
              "       [3.90384615, 1.19230769]])"
            ]
          },
          "metadata": {},
          "execution_count": 89
        }
      ]
    },
    {
      "cell_type": "code",
      "source": [
        "kmeans.labels_"
      ],
      "metadata": {
        "colab": {
          "base_uri": "https://localhost:8080/"
        },
        "id": "Z4qyp6dGDsKt",
        "outputId": "3b469787-550c-4345-d0f0-4612a809bce2"
      },
      "execution_count": 90,
      "outputs": [
        {
          "output_type": "execute_result",
          "data": {
            "text/plain": [
              "array([1, 1, 1, 1, 1, 1, 1, 1, 1, 1, 1, 1, 1, 1, 1, 1, 1, 1, 1, 1, 1, 1,\n",
              "       1, 1, 1, 1, 1, 1, 1, 1, 1, 1, 1, 1, 1, 1, 1, 1, 1, 1, 1, 1, 1, 1,\n",
              "       1, 1, 1, 1, 1, 1, 2, 2, 2, 3, 2, 2, 2, 3, 2, 3, 3, 3, 3, 2, 3, 2,\n",
              "       2, 3, 2, 3, 2, 3, 2, 2, 3, 2, 2, 2, 2, 3, 3, 3, 3, 2, 2, 2, 2, 2,\n",
              "       3, 3, 3, 2, 3, 3, 3, 3, 3, 3, 3, 3, 0, 2, 0, 0, 0, 0, 2, 0, 0, 0,\n",
              "       2, 0, 0, 2, 0, 0, 0, 0, 0, 2, 0, 2, 0, 2, 0, 0, 2, 2, 0, 0, 0, 0,\n",
              "       0, 2, 0, 0, 0, 0, 2, 0, 0, 0, 2, 0, 0, 0, 2, 0, 0, 2], dtype=int32)"
            ]
          },
          "metadata": {},
          "execution_count": 90
        }
      ]
    },
    {
      "cell_type": "code",
      "source": [
        "plt.figure(figsize=(8,4))\n",
        "plot_decision_boundaries(kmeans, X)\n",
        "\n",
        "plt.show()"
      ],
      "metadata": {
        "colab": {
          "base_uri": "https://localhost:8080/",
          "height": 287
        },
        "id": "fvIJP1daDuzo",
        "outputId": "79ddd1af-1bd8-4766-854e-bc99fee5fb56"
      },
      "execution_count": 91,
      "outputs": [
        {
          "output_type": "display_data",
          "data": {
            "text/plain": [
              "<Figure size 576x288 with 1 Axes>"
            ],
            "image/png": "[encoded data removed]"
          },
          "metadata": {
            "needs_background": "light"
          }
        }
      ]
    },
    {
      "cell_type": "markdown",
      "source": [
        "### K = 5 인 경우,"
      ],
      "metadata": {
        "id": "yCnuI-1pHU18"
      }
    },
    {
      "cell_type": "code",
      "source": [
        "k=5\n",
        "kmeans = KMeans(n_clusters=k, random_state=42)\n",
        "y_pred = kmeans.fit_predict(X)"
      ],
      "metadata": {
        "id": "40tMAEKPDxB5"
      },
      "execution_count": 92,
      "outputs": []
    },
    {
      "cell_type": "code",
      "source": [
        "y_pred is kmeans.labels_"
      ],
      "metadata": {
        "colab": {
          "base_uri": "https://localhost:8080/"
        },
        "id": "HLxsPJheDx0A",
        "outputId": "e8ea888f-f619-481d-e1a3-74133678b542"
      },
      "execution_count": 93,
      "outputs": [
        {
          "output_type": "execute_result",
          "data": {
            "text/plain": [
              "True"
            ]
          },
          "metadata": {},
          "execution_count": 93
        }
      ]
    },
    {
      "cell_type": "code",
      "source": [
        "kmeans.cluster_centers_"
      ],
      "metadata": {
        "colab": {
          "base_uri": "https://localhost:8080/"
        },
        "id": "LGfkzTlxDyyh",
        "outputId": "84abd190-4f84-477c-abe3-fae0a4e28e49"
      },
      "execution_count": 94,
      "outputs": [
        {
          "output_type": "execute_result",
          "data": {
            "text/plain": [
              "array([[4.64857143, 1.5       ],\n",
              "       [1.462     , 0.246     ],\n",
              "       [5.39666667, 2.05333333],\n",
              "       [3.83181818, 1.16818182],\n",
              "       [6.28461538, 2.13846154]])"
            ]
          },
          "metadata": {},
          "execution_count": 94
        }
      ]
    },
    {
      "cell_type": "code",
      "source": [
        "kmeans.labels_"
      ],
      "metadata": {
        "colab": {
          "base_uri": "https://localhost:8080/"
        },
        "id": "30FbxRxLDy04",
        "outputId": "f1306f90-4db7-431a-9ae0-74d775c5e56c"
      },
      "execution_count": 95,
      "outputs": [
        {
          "output_type": "execute_result",
          "data": {
            "text/plain": [
              "array([1, 1, 1, 1, 1, 1, 1, 1, 1, 1, 1, 1, 1, 1, 1, 1, 1, 1, 1, 1, 1, 1,\n",
              "       1, 1, 1, 1, 1, 1, 1, 1, 1, 1, 1, 1, 1, 1, 1, 1, 1, 1, 1, 1, 1, 1,\n",
              "       1, 1, 1, 1, 1, 1, 0, 0, 0, 3, 0, 0, 0, 3, 0, 3, 3, 0, 3, 0, 3, 0,\n",
              "       0, 3, 0, 3, 0, 3, 0, 0, 0, 0, 0, 0, 0, 3, 3, 3, 3, 0, 0, 0, 0, 0,\n",
              "       3, 3, 0, 0, 3, 3, 3, 3, 3, 0, 3, 3, 4, 2, 4, 2, 2, 4, 0, 4, 2, 4,\n",
              "       2, 2, 2, 2, 2, 2, 2, 4, 4, 0, 2, 2, 4, 0, 2, 4, 0, 0, 2, 2, 4, 4,\n",
              "       2, 0, 2, 4, 2, 2, 0, 2, 2, 2, 2, 4, 2, 2, 2, 2, 2, 2], dtype=int32)"
            ]
          },
          "metadata": {},
          "execution_count": 95
        }
      ]
    },
    {
      "cell_type": "code",
      "source": [
        "plt.figure(figsize=(8,4))\n",
        "plot_decision_boundaries(kmeans, X)\n",
        "\n",
        "plt.show()"
      ],
      "metadata": {
        "colab": {
          "base_uri": "https://localhost:8080/",
          "height": 287
        },
        "id": "PeWLg06ZDy2x",
        "outputId": "76024f90-6266-4e2d-e090-356851555c37"
      },
      "execution_count": 96,
      "outputs": [
        {
          "output_type": "display_data",
          "data": {
            "text/plain": [
              "<Figure size 576x288 with 1 Axes>"
            ],
            "image/png": "[encoded data removed]"
          },
          "metadata": {
            "needs_background": "light"
          }
        }
      ]
    },
    {
      "cell_type": "markdown",
      "source": [
        "### -> K값을 2~5까지 수행하여 눈으로 확인하였을 때는 2와 3이 가장 적절해 보인다"
      ],
      "metadata": {
        "id": "kaUJZ1rMHa6X"
      }
    },
    {
      "cell_type": "markdown",
      "source": [
        "# 최적의 클러스터 개수 찾기"
      ],
      "metadata": {
        "id": "Nq1XZThLHoFo"
      }
    },
    {
      "cell_type": "code",
      "source": [
        "def plot_clusterer_comparision(clusterer1, clusterer2,X, title1=None, title2=None):\n",
        "    clusterer1.fit(X)\n",
        "    clusterer2.fit(X)\n",
        "    \n",
        "    plt.figure(figsize=(10, 3.2))\n",
        "    \n",
        "    plt.subplot(121)\n",
        "    plot_decision_boundaries(clusterer1, X)\n",
        "    if title1:\n",
        "        plt.title(title1, fontsize=14)\n",
        "        \n",
        "    plt.subplot(122)\n",
        "    plot_decision_boundaries(clusterer2, X, show_ylabels=False)\n",
        "    if title2:\n",
        "        plt.title(title2, fontsize=14)"
      ],
      "metadata": {
        "id": "awH9SjQ_FxeA"
      },
      "execution_count": 97,
      "outputs": []
    },
    {
      "cell_type": "markdown",
      "source": [
        "### K값이 2와 3일때 비교"
      ],
      "metadata": {
        "id": "WWvkYKu7H_IT"
      }
    },
    {
      "cell_type": "code",
      "source": [
        "kmeans_k2 = KMeans(n_clusters=2, random_state=42)\n",
        "kmeans_k3=KMeans(n_clusters=3, random_state=42)\n",
        "\n",
        "plot_clusterer_comparision(kmeans_k2, kmeans_k3, X, \"$k=2$\", \"$k=3$\")\n",
        "\n",
        "plt.show()"
      ],
      "metadata": {
        "colab": {
          "base_uri": "https://localhost:8080/",
          "height": 261
        },
        "id": "6cvOKIoQFzxP",
        "outputId": "04c33b4f-d7ca-4895-fd8f-29d36886a369"
      },
      "execution_count": 98,
      "outputs": [
        {
          "output_type": "display_data",
          "data": {
            "text/plain": [
              "<Figure size 720x230.4 with 2 Axes>"
            ],
            "image/png": "[encoded data removed]"
          },
          "metadata": {
            "needs_background": "light"
          }
        }
      ]
    },
    {
      "cell_type": "code",
      "source": [
        "kmeans_k2.inertia_"
      ],
      "metadata": {
        "colab": {
          "base_uri": "https://localhost:8080/"
        },
        "id": "1PdpEhA1F69-",
        "outputId": "6e36b3a6-26e7-416b-c87b-ab779e22caaf"
      },
      "execution_count": 99,
      "outputs": [
        {
          "output_type": "execute_result",
          "data": {
            "text/plain": [
              "86.39021984551397"
            ]
          },
          "metadata": {},
          "execution_count": 99
        }
      ]
    },
    {
      "cell_type": "code",
      "source": [
        "kmeans_k3.inertia_ "
      ],
      "metadata": {
        "colab": {
          "base_uri": "https://localhost:8080/"
        },
        "id": "jYE6WweMGIR5",
        "outputId": "26527888-d551-4e52-8899-c7a6865d446b"
      },
      "execution_count": 100,
      "outputs": [
        {
          "output_type": "execute_result",
          "data": {
            "text/plain": [
              "31.37135897435897"
            ]
          },
          "metadata": {},
          "execution_count": 100
        }
      ]
    },
    {
      "cell_type": "markdown",
      "source": [
        "#### 당연히 K가 3일때 이니셔 값이 더 작게 나오기 때문에 K값을 정할 수 없다."
      ],
      "metadata": {
        "id": "ua3T2ulnJBdM"
      }
    },
    {
      "cell_type": "markdown",
      "source": [
        "### 최적의 K값은 실루엣 점수로 판단"
      ],
      "metadata": {
        "id": "eAgTrMt5I7mS"
      }
    },
    {
      "cell_type": "code",
      "source": [
        "kmeans_per_k = [KMeans(n_clusters=k, random_state=42).fit(X)\n",
        "               for k in range(1,10)]\n",
        "inertias = [model.inertia_ for model in kmeans_per_k]"
      ],
      "metadata": {
        "id": "clphOOHoGSxa"
      },
      "execution_count": 101,
      "outputs": []
    },
    {
      "cell_type": "code",
      "source": [
        "from sklearn.metrics import silhouette_score"
      ],
      "metadata": {
        "id": "W-1IaVE4GT8s"
      },
      "execution_count": 102,
      "outputs": []
    },
    {
      "cell_type": "code",
      "source": [
        "silhouette_score(X, kmeans.labels_)"
      ],
      "metadata": {
        "colab": {
          "base_uri": "https://localhost:8080/"
        },
        "id": "59XxhLcVGVNK",
        "outputId": "bd909a2e-72e3-4cf8-81be-573faee66894"
      },
      "execution_count": 103,
      "outputs": [
        {
          "output_type": "execute_result",
          "data": {
            "text/plain": [
              "0.5883732712110276"
            ]
          },
          "metadata": {},
          "execution_count": 103
        }
      ]
    },
    {
      "cell_type": "code",
      "source": [
        "silhouette_scores = [silhouette_score(X, model.labels_)\n",
        "                    for model in kmeans_per_k[1:]]"
      ],
      "metadata": {
        "id": "Brbv0fA5GXNM"
      },
      "execution_count": 104,
      "outputs": []
    },
    {
      "cell_type": "code",
      "source": [
        "plt.figure(figsize=(8,3))\n",
        "plt.plot(range(2,10), silhouette_scores, \"bo-\")\n",
        "plt.xlabel(\"$k$\", fontsize=14)\n",
        "plt.ylabel(\"Silhouette score\", fontsize=14)\n",
        "plt.axis([1.8, 8.5, 0.55, 0.7])\n",
        "\n",
        "plt.show()"
      ],
      "metadata": {
        "colab": {
          "base_uri": "https://localhost:8080/",
          "height": 238
        },
        "id": "5e1TGb6hGY1K",
        "outputId": "4c0dc364-9869-4988-9157-1088af8dd36a"
      },
      "execution_count": 105,
      "outputs": [
        {
          "output_type": "display_data",
          "data": {
            "text/plain": [
              "<Figure size 576x216 with 1 Axes>"
            ],
            "image/png": "[encoded data removed]"
          },
          "metadata": {
            "needs_background": "light"
          }
        }
      ]
    },
    {
      "cell_type": "markdown",
      "source": [
        "### 실루엣 점수가 2에서 가장 높고, 3이 다음으로 높은 것을 보아 K값이 2일때와 3일때가 적합한 것으로 보인다"
      ],
      "metadata": {
        "id": "BVqIhVEoMoAs"
      }
    },
    {
      "cell_type": "code",
      "source": [
        "from sklearn.metrics import silhouette_samples\n",
        "from matplotlib.ticker import FixedLocator, FixedFormatter\n",
        "\n",
        "plt.figure(figsize=(11,9))\n",
        " \n",
        "for k in (2,3,4,5):\n",
        "  plt.subplot(2,2,k-1)\n",
        "\n",
        "  y_pred = kmeans_per_k[k-1].labels_\n",
        "  silhouette_coefficients = silhouette_samples(X, y_pred)\n",
        "\n",
        "  padding =len(X) // 30\n",
        "  pos = padding\n",
        "  ticks = []\n",
        "  for i in range(k):\n",
        "    coeffs = silhouette_coefficients[y_pred == i]\n",
        "    coeffs.sort()\n",
        "\n",
        "    color = mpl.cm.Spectral(i/k)\n",
        "    plt.fill_betweenx(np.arange(pos, pos + len(coeffs)), 0, coeffs, \n",
        "                      facecolor=color, edgecolor=color, alpha=0.7)\n",
        "    ticks.append(pos + len(coeffs) // 2)\n",
        "    pos += len(coeffs) + padding\n",
        "\n",
        "  plt.gca().yaxis.set_major_locator(FixedLocator(ticks))\n",
        "  plt.gca().yaxis.set_major_formatter(FixedFormatter(range(k)))\n",
        "  if k in (2,4):\n",
        "    plt.ylabel(\"Cluster\")\n",
        "  if k in (4,5):\n",
        "    plt.gca().set_xticks([-0.1, 0, 0.2, 0.4, 0.6, 0.8, 1])\n",
        "    plt.xlabel(\"Silhouette Coefficient\")\n",
        "\n",
        "  else:\n",
        "    plt.tick_params(labelbottom=False)\n",
        "\n",
        "  plt.axvline(x=silhouette_scores[k-1], color=\"red\", linestyle=\"--\")\n",
        "  plt.title(\"$k={}$\".format(k), fontsize=16)\n",
        "\n",
        "plt.show()"
      ],
      "metadata": {
        "colab": {
          "base_uri": "https://localhost:8080/",
          "height": 577
        },
        "id": "gmG7nFokJxt_",
        "outputId": "f7a8a5eb-70aa-43c2-b691-5e64214dce7e"
      },
      "execution_count": 106,
      "outputs": [
        {
          "output_type": "display_data",
          "data": {
            "text/plain": [
              "<Figure size 792x648 with 4 Axes>"
            ],
            "image/png": "[encoded data removed]"
          },
          "metadata": {
            "needs_background": "light"
          }
        }
      ]
    },
    {
      "cell_type": "markdown",
      "source": [
        "### 실루엣 점수를 그림으로 나타내었을 때도 K가 2일때와 3일때 모두 실루엣 계수를 넘은 것을 확인 할 수 있다.\n",
        "### 하지만 K가 3일 때 데이터의 갯수가 동일 비율로 나뉘어져 있는 것을 확인 할 수 있다.\n",
        "## 따라서 최적의 K값은 3이다. "
      ],
      "metadata": {
        "id": "X0fSnpbyMi8g"
      }
    }
  ]
}